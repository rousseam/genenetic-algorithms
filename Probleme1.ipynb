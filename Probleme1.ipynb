{
 "cells": [
  {
   "cell_type": "markdown",
   "metadata": {},
   "source": [
    "# Question 1\n",
    "On calcule l'espérance de gain pour le joueur 1 quand :\n",
    "- le joueur 1 joue  avec une proba $p_1^1$ \"pair\" et $p_2^1$ \"impair\"\n",
    "- le joueur 2 joue  avec une proba $p_1^2$ \"pair\" et $p_2^2$ \"impair\""
   ]
  },
  {
   "cell_type": "code",
   "execution_count": 1,
   "metadata": {},
   "outputs": [
    {
     "name": "stdout",
     "output_type": "stream",
     "text": [
      "0.0\n",
      "0.08000000000000007\n"
     ]
    }
   ],
   "source": [
    "def esperance1(p1, p2):\n",
    "    return p1*(1-p2) + (1-p1)*p2 - p1*p2 - (1-p1)*(1-p2)\n",
    "\n",
    "print(esperance1(0.5, 0.5))\n",
    "print(esperance1(0.3, 0.6))"
   ]
  },
  {
   "cell_type": "markdown",
   "metadata": {},
   "source": [
    "On calcule l'espérance de gain pour le joueur 1 quand :\n",
    "- le joueur 1 joue  avec une proba $p_1^1$ \"pair\" et $p_2^1$ \"impair\"\n",
    "- contre une population de s = 1..N2 où le joueur {2, s} joue avec probabilité $p_1^{2,s}$ ”pair” et $p_2^{2,s}$ ”impair”"
   ]
  },
  {
   "cell_type": "code",
   "execution_count": null,
   "metadata": {},
   "outputs": [],
   "source": [
    "import random\n",
    "def newEsperance1(p1, p2Start, p2End, s):\n",
    "    result = 0\n",
    "    for i in range()"
   ]
  }
 ],
 "metadata": {
  "kernelspec": {
   "display_name": "Python 3",
   "language": "python",
   "name": "python3"
  },
  "language_info": {
   "codemirror_mode": {
    "name": "ipython",
    "version": 3
   },
   "file_extension": ".py",
   "mimetype": "text/x-python",
   "name": "python",
   "nbconvert_exporter": "python",
   "pygments_lexer": "ipython3",
   "version": "3.12.0"
  }
 },
 "nbformat": 4,
 "nbformat_minor": 2
}
